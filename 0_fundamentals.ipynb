{
 "cells": [
  {
   "cell_type": "markdown",
   "metadata": {},
   "source": [
    "# NumPy Fundamentals\n",
    "\n",
    "## 1. NumPy Introduction\n",
    "NumPy is a fundamental package for scientific computing in Python. It provides support for large, multi-dimensional arrays and matrices, along with a collection of mathematical functions to operate on these arrays."
   ]
  },
  {
   "cell_type": "code",
   "execution_count": null,
   "metadata": {},
   "outputs": [],
   "source": [
    "# Easy Example: Creating a simple array\n",
    "import numpy as np\n",
    "arr = np.array([1, 2, 3, 4, 5])\n",
    "print(arr)"
   ]
  },
  {
   "cell_type": "code",
   "execution_count": null,
   "metadata": {},
   "outputs": [],
   "source": [
    "# Medium Example: Basic array operations\n",
    "arr1 = np.array([1, 2, 3])\n",
    "arr2 = np.array([4, 5, 6])\n",
    "print(\"Addition:\", arr1 + arr2)\n",
    "print(\"Multiplication:\", arr1 * arr2)\n",
    "print(\"Square root:\", np.sqrt(arr1))"
   ]
  },
  {
   "cell_type": "markdown",
   "metadata": {},
   "source": [
    "## 2. Getting Started\n",
    "To use NumPy, you need to import it and understand its basic functionality."
   ]
  },
  {
   "cell_type": "code",
   "execution_count": null,
   "metadata": {},
   "outputs": [],
   "source": [
    "# Easy Example: Checking NumPy version\n",
    "import numpy as np\n",
    "print(np.__version__)"
   ]
  },
  {
   "cell_type": "code",
   "execution_count": null,
   "metadata": {},
   "outputs": [],
   "source": [
    "# Medium Example: Creating different types of arrays\n",
    "array_1d = np.array([1, 2, 3])\n",
    "array_2d = np.array([[1, 2], [3, 4]])\n",
    "zeros = np.zeros(3)\n",
    "ones = np.ones((2, 2))\n",
    "\n",
    "print(\"1D array:\", array_1d)\n",
    "print(\"2D array:\", array_2d)\n",
    "print(\"Zeros:\", zeros)\n",
    "print(\"Ones:\", ones)"
   ]
  }
 ],
 "metadata": {
  "language_info": {
   "name": "python"
  }
 },
 "nbformat": 4,
 "nbformat_minor": 2
}
