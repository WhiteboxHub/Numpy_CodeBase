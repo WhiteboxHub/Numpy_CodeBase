{
 "cells": [
  {
   "cell_type": "markdown",
   "metadata": {},
   "source": [
    "# NumPy Array Analysis\n",
    "\n",
    "## 1. NumPy Array Search\n",
    "You can search for elements using functions like np.where()."
   ]
  },
  {
   "cell_type": "code",
   "execution_count": null,
   "metadata": {},
   "outputs": [],
   "source": [
    "# Easy Example: \n",
    "import numpy as np\n",
    "\n",
    "arr = np.array([10,20,30])\n",
    "indices = np.where(arr ==20) \n",
    "print(indices) \n"
   ]
  },
  {
   "cell_type": "code",
   "execution_count": null,
   "metadata": {},
   "outputs": [],
   "source": [
    "# Medium Example: \n",
    "matrix = np.array([[10],[20],[30]])\n",
    "indices = np.where(matrix >15) \n",
    "print(indices) \n"
   ]
  },
  {
   "cell_type": "markdown",
   "metadata": {},
   "source": [
    "### Search Sorted\n",
    "There is a method called searchsorted() which performs a binary search in the array"
   ]
  },
  {
   "cell_type": "code",
   "execution_count": null,
   "metadata": {},
   "outputs": [],
   "source": [
    "# Find the indexes where the value 7 should be inserted:\n",
    "\n",
    "import numpy as np\n",
    "\n",
    "arr = np.array([6, 7, 8, 9])\n",
    "x = np.searchsorted(arr, 7)\n",
    "print(x)"
   ]
  },
  {
   "cell_type": "markdown",
   "metadata": {},
   "source": [
    "#### Search From the Right Side\n",
    "- By default the left most index is returned, but we can give side='right' to return the right most index instead."
   ]
  },
  {
   "cell_type": "code",
   "execution_count": null,
   "metadata": {},
   "outputs": [],
   "source": [
    "# Find the indexes where the value 7 should be inserted, starting from the right:\n",
    "\n",
    "import numpy as np\n",
    "\n",
    "arr = np.array([6, 7, 8, 9])\n",
    "x = np.searchsorted(arr, 7, side='right')\n",
    "print(x)"
   ]
  },
  {
   "cell_type": "markdown",
   "metadata": {},
   "source": [
    "#### Multiple Values\n",
    "- To search for more than one value, use an array with the specified values."
   ]
  },
  {
   "cell_type": "code",
   "execution_count": null,
   "metadata": {},
   "outputs": [],
   "source": [
    "# Find the indexes where the values 2, 4, and 6 should be inserted:\n",
    "\n",
    "import numpy as np\n",
    "\n",
    "arr = np.array([1, 3, 5, 7])\n",
    "x = np.searchsorted(arr, [2, 4, 6])\n",
    "print(x)"
   ]
  },
  {
   "cell_type": "markdown",
   "metadata": {},
   "source": [
    "## 2. NumPy Array Sort\n",
    "Sorting can be done using np.sort() or the .sort() method."
   ]
  },
  {
   "cell_type": "code",
   "execution_count": null,
   "metadata": {},
   "outputs": [],
   "source": [
    "# Easy Example: \n",
    "arr = np.array([3 ,1 ,2])\n",
    "sorted_arr = np.sort(arr) \n",
    "print(sorted_arr) \n"
   ]
  },
  {
   "cell_type": "code",
   "execution_count": null,
   "metadata": {},
   "outputs": [],
   "source": [
    "# Sort a boolean array:\n",
    "import numpy as np\n",
    "\n",
    "arr = np.array([True, False, True])\n",
    "print(np.sort(arr))"
   ]
  },
  {
   "cell_type": "code",
   "execution_count": null,
   "metadata": {},
   "outputs": [],
   "source": [
    "# Medium Example:\n",
    "# Sort a 2-D array:\n",
    "matrix = np.array([[9 ,8],[7 ,6]])\n",
    "sorted_matrix = np.sort(matrix) \n",
    "print(sorted_matrix) "
   ]
  },
  {
   "cell_type": "code",
   "execution_count": null,
   "metadata": {},
   "outputs": [],
   "source": [
    "# Medium Example:\n",
    "# Sort a 2-D array:\n",
    "\n",
    "import numpy as np\n",
    "arr = np.array([[3, 2, 4], [5, 0, 1]])\n",
    "print(np.sort(arr))"
   ]
  },
  {
   "cell_type": "markdown",
   "metadata": {},
   "source": [
    "## 3. NumPy Array Filter\n",
    "\n",
    "Filtering allows you to select elements based on conditions."
   ]
  },
  {
   "cell_type": "code",
   "execution_count": null,
   "metadata": {},
   "outputs": [],
   "source": [
    "# Easy Example: \n",
    "arr = np.array([10 ,20 ,30 ,40])\n",
    "filtered_arr = arr[arr >20]\n",
    "print(filtered_arr) "
   ]
  },
  {
   "cell_type": "code",
   "execution_count": null,
   "metadata": {},
   "outputs": [],
   "source": [
    "# Medium Example: \n",
    "matrix = np.array([[10 ,20],[30 ,40]])\n",
    "filtered_matrix = matrix[matrix <30] \n",
    "print(filtered_matrix) \n"
   ]
  },
  {
   "cell_type": "code",
   "execution_count": null,
   "metadata": {},
   "outputs": [],
   "source": [
    "# Create an array from the elements on index 0 and 2:\n",
    "\n",
    "import numpy as np\n",
    "\n",
    "arr = np.array([41, 42, 43, 44])\n",
    "x = [True, False, True, False]\n",
    "newarr = arr[x]\n",
    "print(newarr)"
   ]
  },
  {
   "cell_type": "markdown",
   "metadata": {},
   "source": [
    "### Creating the Filter Array\n"
   ]
  },
  {
   "cell_type": "code",
   "execution_count": null,
   "metadata": {},
   "outputs": [],
   "source": [
    "# Create a filter array that will return only values higher than 42:\n",
    "import numpy as np\n",
    "\n",
    "arr = np.array([41, 42, 43, 44])\n",
    "# Create an empty list\n",
    "filter_arr = []\n",
    "# go through each element in arr\n",
    "for element in arr:\n",
    "  # if the element is higher than 42, set the value to True, otherwise False:\n",
    "  if element > 42:\n",
    "    filter_arr.append(True)\n",
    "  else:\n",
    "    filter_arr.append(False)\n",
    "newarr = arr[filter_arr]\n",
    "print(filter_arr)\n",
    "print(newarr)\n"
   ]
  },
  {
   "cell_type": "markdown",
   "metadata": {},
   "source": [
    "### Creating Filter Directly From Array\n"
   ]
  },
  {
   "cell_type": "code",
   "execution_count": null,
   "metadata": {},
   "outputs": [],
   "source": [
    "# Create a filter array that will return only values higher than 42:\n",
    "import numpy as np\n",
    "\n",
    "arr = np.array([41, 42, 43, 44])\n",
    "filter_arr = arr > 42\n",
    "newarr = arr[filter_arr]\n",
    "print(filter_arr)\n",
    "print(newarr)"
   ]
  },
  {
   "cell_type": "code",
   "execution_count": null,
   "metadata": {},
   "outputs": [],
   "source": [
    "# Create a filter array that will return only even elements from the original array:\n",
    "import numpy as np\n",
    "\n",
    "arr = np.array([1, 2, 3, 4, 5, 6, 7])\n",
    "filter_arr = arr % 2 == 0\n",
    "newarr = arr[filter_arr]\n",
    "print(filter_arr)\n",
    "print(newarr)\n"
   ]
  }
 ],
 "metadata": {
  "kernelspec": {
   "display_name": "Python 3",
   "language": "python",
   "name": "python3"
  },
  "language_info": {
   "codemirror_mode": {
    "name": "ipython",
    "version": 3
   },
   "file_extension": ".py",
   "mimetype": "text/x-python",
   "name": "python",
   "nbconvert_exporter": "python",
   "pygments_lexer": "ipython3",
   "version": "3.12.4"
  }
 },
 "nbformat": 4,
 "nbformat_minor": 2
}
